{
 "cells": [
  {
   "cell_type": "code",
   "execution_count": 5,
   "id": "92663e72",
   "metadata": {},
   "outputs": [],
   "source": [
    "import cv2\n",
    "\n",
    "\n",
    "# Ordinary license plate value is 0.95, new energy license plate is changed to 0.9\n",
    "segmentation_spacing = 0.9"
   ]
  },
  {
   "cell_type": "code",
   "execution_count": 7,
   "id": "dadafdd3",
   "metadata": {},
   "outputs": [],
   "source": [
    "img = cv2.imread('test4.png')\n",
    "img_gray = cv2.cvtColor(img, cv2.COLOR_RGB2GRAY)\n",
    "\n",
    "\n",
    "'''2 Binary the grayscale image'''\n",
    "ret, img_threshold = cv2.threshold(img_gray, 100, 255, cv2.THRESH_BINARY)\n",
    "\n",
    "cv2.imshow('character', img_threshold)\n",
    "cv2.waitKey(0)\n",
    "cv2.destroyAllWindows()\n",
    "\n",
    "'''3 Split characters'''\n",
    "white = []  # Record the sum of white pixels in each column\n",
    "black = []  # Record the sum of black pixels in each column\n",
    "height = img_threshold.shape[0]\n",
    "width = img_threshold.shape[1]\n",
    "\n",
    "white_max = 0\n",
    "black_max = 0"
   ]
  },
  {
   "cell_type": "code",
   "execution_count": 3,
   "id": "ff7b6a81",
   "metadata": {},
   "outputs": [],
   "source": [
    "'''4 Cycle through the sum of black and white pixels for each column'''\n",
    "for i in range(width):\n",
    "    white_count = 0\n",
    "    black_count = 0\n",
    "    for j in range(height):\n",
    "        if img_threshold[j][i] == 255:\n",
    "            white_count += 1\n",
    "        else:\n",
    "            black_count += 1\n",
    "\n",
    "    white.append(white_count)\n",
    "    black.append(black_count)\n",
    "\n",
    "white_max = max(white)\n",
    "black_max = max(black)\n",
    "\n",
    "\n",
    "'''5 Split the image, given the starting point of the character to be split'''\n",
    "def find_end(start):\n",
    "    end = start + 1\n",
    "    for m in range(start + 1, width - 1):\n",
    "        if(black[m] > segmentation_spacing * black_max):\n",
    "            end = m\n",
    "            break\n",
    "    return end"
   ]
  },
  {
   "cell_type": "code",
   "execution_count": 4,
   "id": "21c6eb20",
   "metadata": {},
   "outputs": [
    {
     "name": "stdout",
     "output_type": "stream",
     "text": [
      "26 77\n",
      "True\n",
      "83 123\n",
      "True\n",
      "130 169\n",
      "True\n",
      "191 225\n",
      "True\n",
      "232 252\n",
      "True\n"
     ]
    }
   ],
   "source": [
    "n = 1\n",
    "start = 1\n",
    "end = 2\n",
    "while n < width - 1:\n",
    "    n += 1\n",
    "    if(white[n] > (1 - segmentation_spacing) * white_max):\n",
    "        start = n\n",
    "        end = find_end(start)\n",
    "        n = end\n",
    "        if end - start > 5:\n",
    "            print(start, end)\n",
    "            character = img_threshold[1:height, start:end]\n",
    "#            status = cv2.imwrite(r'C:\\Users\\jonat\\PythonDjango\\FYP\\myJupyterFiles\\img{0}.png'.format(n), character)\n",
    "#            print(status)\n",
    "#             cv2.imshow('character', character)\n",
    "#             cv2.waitKey(0)\n",
    "#             cv2.destroyAllWindows()"
   ]
  }
 ],
 "metadata": {
  "kernelspec": {
   "display_name": "LPR",
   "language": "python",
   "name": "env"
  },
  "language_info": {
   "codemirror_mode": {
    "name": "ipython",
    "version": 3
   },
   "file_extension": ".py",
   "mimetype": "text/x-python",
   "name": "python",
   "nbconvert_exporter": "python",
   "pygments_lexer": "ipython3",
   "version": "3.9.6"
  }
 },
 "nbformat": 4,
 "nbformat_minor": 5
}
