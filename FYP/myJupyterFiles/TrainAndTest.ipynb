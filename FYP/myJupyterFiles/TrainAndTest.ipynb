{
 "cells": [
  {
   "cell_type": "code",
   "execution_count": 1,
   "id": "87fefa5b",
   "metadata": {},
   "outputs": [],
   "source": [
    "import cv2\n",
    "import numpy as np\n",
    "import operator\n",
    "import os"
   ]
  },
  {
   "cell_type": "code",
   "execution_count": 2,
   "id": "c20a58d7",
   "metadata": {},
   "outputs": [],
   "source": [
    "# module level variables ##########################################################################\n",
    "MIN_CONTOUR_AREA = 100\n",
    "\n",
    "RESIZED_IMAGE_WIDTH = 20\n",
    "RESIZED_IMAGE_HEIGHT = 30"
   ]
  },
  {
   "cell_type": "code",
   "execution_count": 3,
   "id": "d520b31f",
   "metadata": {},
   "outputs": [],
   "source": [
    "class ContourWithData():\n",
    "\n",
    "    # member variables ############################################################################\n",
    "    npaContour = None           # contour\n",
    "    boundingRect = None         # bounding rect for contour\n",
    "    intRectX = 0                # bounding rect top left corner x location\n",
    "    intRectY = 0                # bounding rect top left corner y location\n",
    "    intRectWidth = 0            # bounding rect width\n",
    "    intRectHeight = 0           # bounding rect height\n",
    "    fltArea = 0.0               # area of contour\n",
    "\n",
    "    def calculateRectTopLeftPointAndWidthAndHeight(self):               # calculate bounding rect info\n",
    "        [intX, intY, intWidth, intHeight] = self.boundingRect\n",
    "        self.intRectX = intX\n",
    "        self.intRectY = intY\n",
    "        self.intRectWidth = intWidth\n",
    "        self.intRectHeight = intHeight\n",
    "\n",
    "    def checkIfContourIsValid(self):                            # this is oversimplified, for a production grade program\n",
    "        if self.fltArea < MIN_CONTOUR_AREA: return False        # much better validity checking would be necessary\n",
    "        return True"
   ]
  },
  {
   "cell_type": "code",
   "execution_count": 4,
   "id": "a76b34e3",
   "metadata": {},
   "outputs": [],
   "source": [
    "allContoursWithData = []                # declare empty lists,\n",
    "validContoursWithData = []              # we will fill these shortly\n",
    "\n",
    "try:\n",
    "    npaClassifications = np.loadtxt(\"classifications1.txt\", np.float32)                  # read in training classifications\n",
    "except:\n",
    "    print(\"error, unable to open classifications.txt, exiting program\\n\")\n",
    "    os.system(\"pause\")\n",
    "# end try\n",
    "\n",
    "try:\n",
    "    npaFlattenedImages = np.loadtxt(\"flattened_images1.txt\", np.float32)                 # read in training images\n",
    "except:\n",
    "    print(\"error, unable to open flattened_images.txt, exiting program\\n\")\n",
    "    os.system(\"pause\")\n",
    "    # end try"
   ]
  },
  {
   "cell_type": "code",
   "execution_count": 5,
   "id": "5e15ae3a",
   "metadata": {},
   "outputs": [],
   "source": [
    "# reshape numpy array to 1d, necessary to pass to call to train\n",
    "npaClassifications = npaClassifications.reshape((npaClassifications.size, 1))"
   ]
  },
  {
   "cell_type": "code",
   "execution_count": 6,
   "id": "a68b4feb",
   "metadata": {},
   "outputs": [],
   "source": [
    "kNearest = cv2.ml.KNearest_create()"
   ]
  },
  {
   "cell_type": "code",
   "execution_count": 7,
   "id": "6698220c",
   "metadata": {},
   "outputs": [
    {
     "data": {
      "text/plain": [
       "True"
      ]
     },
     "execution_count": 7,
     "metadata": {},
     "output_type": "execute_result"
    }
   ],
   "source": [
    "kNearest.train(npaFlattenedImages, cv2.ml.ROW_SAMPLE, npaClassifications)"
   ]
  },
  {
   "cell_type": "code",
   "execution_count": 8,
   "id": "4671ad77",
   "metadata": {},
   "outputs": [],
   "source": [
    "imgTestingNumbers = cv2.imread(\"test9.png\")\n",
    "\n",
    "if imgTestingNumbers is None:\n",
    "    print(\"Error: image not found\")\n",
    "    os.system(\"pause\")"
   ]
  },
  {
   "cell_type": "code",
   "execution_count": 9,
   "id": "2821ef86",
   "metadata": {},
   "outputs": [],
   "source": [
    "imgGray = cv2.cvtColor(imgTestingNumbers, cv2.COLOR_BGR2GRAY)\n",
    "imgBlurred = cv2.GaussianBlur(imgGray, (5,5), 0)\n",
    "# cv2.imshow(\"gray\", imgGray)\n",
    "# cv2.imshow(\"blur\", imgBlurred)\n",
    "# cv2.waitKey(0)\n",
    "# cv2.destroyAllWindows()"
   ]
  },
  {
   "cell_type": "code",
   "execution_count": 10,
   "id": "0e1c569e",
   "metadata": {},
   "outputs": [],
   "source": [
    "#imgThresh = cv2.adaptiveThreshold(imgBlurred, 255, cv2.ADAPTIVE_THRESH_GAUSSIAN_C, cv2.THRESH_BINARY, 11, 2)\n",
    "ret, imgThresh = cv2.threshold(imgBlurred, 180, 255, cv2.THRESH_BINARY)\n",
    "cv2.imshow(\"thresh\", imgThresh)\n",
    "cv2.waitKey(0)\n",
    "cv2.destroyAllWindows()"
   ]
  },
  {
   "cell_type": "code",
   "execution_count": 11,
   "id": "f32f8b72",
   "metadata": {},
   "outputs": [],
   "source": [
    "imgThreshCopy = imgThresh.copy()"
   ]
  },
  {
   "cell_type": "code",
   "execution_count": 12,
   "id": "009d8910",
   "metadata": {},
   "outputs": [],
   "source": [
    "npaContours, npaHierarchy = cv2.findContours(imgThreshCopy, cv2.RETR_EXTERNAL, cv2.CHAIN_APPROX_SIMPLE)"
   ]
  },
  {
   "cell_type": "code",
   "execution_count": 13,
   "id": "88dbf751",
   "metadata": {},
   "outputs": [],
   "source": [
    "for npaContour in npaContours:                             # for each contour\n",
    "    contourWithData = ContourWithData()                                             # instantiate a contour with data object\n",
    "    contourWithData.npaContour = npaContour                                         # assign contour to contour with data\n",
    "    contourWithData.boundingRect = cv2.boundingRect(contourWithData.npaContour)     # get the bounding rect\n",
    "    contourWithData.calculateRectTopLeftPointAndWidthAndHeight()                    # get bounding rect info\n",
    "    contourWithData.fltArea = cv2.contourArea(contourWithData.npaContour)           # calculate the contour area\n",
    "    allContoursWithData.append(contourWithData)                                     # add contour with data object to list of all contours with data"
   ]
  },
  {
   "cell_type": "code",
   "execution_count": 14,
   "id": "3166f8c3",
   "metadata": {},
   "outputs": [],
   "source": [
    "for contourWithData in allContoursWithData:                 # for all contours\n",
    "    if contourWithData.checkIfContourIsValid():             # check if valid\n",
    "        validContoursWithData.append(contourWithData)       # if so, append to valid contour list"
   ]
  },
  {
   "cell_type": "code",
   "execution_count": 15,
   "id": "3efa5473",
   "metadata": {},
   "outputs": [],
   "source": [
    "# sort contours from left to right\n",
    "validContoursWithData.sort(key = operator.attrgetter(\"intRectX\"))"
   ]
  },
  {
   "cell_type": "code",
   "execution_count": 16,
   "id": "d9dd0f46",
   "metadata": {},
   "outputs": [],
   "source": [
    "# final number sequence by the end of the program\n",
    "strFinalString = \"\""
   ]
  },
  {
   "cell_type": "code",
   "execution_count": 17,
   "id": "68f2deee",
   "metadata": {},
   "outputs": [],
   "source": [
    " for contourWithData in validContoursWithData:            # for each contour\n",
    "                                                # draw a green rect around the current char\n",
    "    cv2.rectangle(imgTestingNumbers,                                        # draw rectangle on original testing image\n",
    "                      (contourWithData.intRectX, contourWithData.intRectY),     # upper left corner\n",
    "                      (contourWithData.intRectX + contourWithData.intRectWidth, contourWithData.intRectY + contourWithData.intRectHeight),      # lower right corner\n",
    "                      (0, 255, 0),              # green\n",
    "                      2)                        # thickness\n",
    "\n",
    "    imgROI = imgThresh[contourWithData.intRectY : contourWithData.intRectY + contourWithData.intRectHeight,     # crop char out of threshold image\n",
    "                           contourWithData.intRectX : contourWithData.intRectX + contourWithData.intRectWidth]\n",
    "\n",
    "    imgROIResized = cv2.resize(imgROI, (RESIZED_IMAGE_WIDTH, RESIZED_IMAGE_HEIGHT))             # resize image, this will be more consistent for recognition and storage\n",
    "\n",
    "    npaROIResized = imgROIResized.reshape((1, RESIZED_IMAGE_WIDTH * RESIZED_IMAGE_HEIGHT))      # flatten image into 1d numpy array\n",
    "\n",
    "    npaROIResized = np.float32(npaROIResized)       # convert from 1d numpy array of ints to 1d numpy array of floats\n",
    "\n",
    "    retval, npaResults, neigh_resp, dists = kNearest.findNearest(npaROIResized, k = 1)     # call KNN function find_nearest\n",
    "\n",
    "    strCurrentChar = str(chr(int(npaResults[0][0])))                                             # get character from results\n",
    "\n",
    "    strFinalString = strFinalString + strCurrentChar            # append current char to full string"
   ]
  },
  {
   "cell_type": "code",
   "execution_count": 18,
   "id": "e8a0ab0b",
   "metadata": {},
   "outputs": [
    {
     "name": "stdout",
     "output_type": "stream",
     "text": [
      "\n",
      "4PPCAFI1Q4ITAF1TI54IKTV12I1I17IJII\n",
      "\n"
     ]
    }
   ],
   "source": [
    "print(\"\\n\" + strFinalString + \"\\n\")                  # show the full string\n",
    "\n",
    "cv2.imshow(\"imgTestingNumbers\", imgTestingNumbers)      # show input image with green boxes drawn around found digits\n",
    "cv2.waitKey(0)                                          # wait for user key press\n",
    "\n",
    "cv2.destroyAllWindows()             # remove windows from memory"
   ]
  }
 ],
 "metadata": {
  "kernelspec": {
   "display_name": "LPR",
   "language": "python",
   "name": "env"
  },
  "language_info": {
   "codemirror_mode": {
    "name": "ipython",
    "version": 3
   },
   "file_extension": ".py",
   "mimetype": "text/x-python",
   "name": "python",
   "nbconvert_exporter": "python",
   "pygments_lexer": "ipython3",
   "version": "3.9.6"
  }
 },
 "nbformat": 4,
 "nbformat_minor": 5
}
