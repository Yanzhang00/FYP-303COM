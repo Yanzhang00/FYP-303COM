{
 "cells": [
  {
   "cell_type": "code",
   "execution_count": 1,
   "id": "d76c0f43",
   "metadata": {},
   "outputs": [
    {
     "ename": "ModuleNotFoundError",
     "evalue": "No module named 'TrainAndTest'",
     "output_type": "error",
     "traceback": [
      "\u001b[1;31m---------------------------------------------------------------------------\u001b[0m",
      "\u001b[1;31mModuleNotFoundError\u001b[0m                       Traceback (most recent call last)",
      "\u001b[1;32m~\\AppData\\Local\\Temp/ipykernel_1364/4248680697.py\u001b[0m in \u001b[0;36m<module>\u001b[1;34m\u001b[0m\n\u001b[0;32m      4\u001b[0m \u001b[1;32mimport\u001b[0m \u001b[0mmath\u001b[0m\u001b[1;33m\u001b[0m\u001b[1;33m\u001b[0m\u001b[0m\n\u001b[0;32m      5\u001b[0m \u001b[1;32mimport\u001b[0m \u001b[0mrandom\u001b[0m\u001b[1;33m\u001b[0m\u001b[1;33m\u001b[0m\u001b[0m\n\u001b[1;32m----> 6\u001b[1;33m \u001b[1;32mimport\u001b[0m \u001b[0mTrainAndTest\u001b[0m \u001b[1;32mas\u001b[0m \u001b[0mtt\u001b[0m\u001b[1;33m\u001b[0m\u001b[1;33m\u001b[0m\u001b[0m\n\u001b[0m",
      "\u001b[1;31mModuleNotFoundError\u001b[0m: No module named 'TrainAndTest'"
     ]
    }
   ],
   "source": [
    "import os\n",
    "import cv2\n",
    "import numpy as np\n",
    "import math\n",
    "import random\n",
    "import TrainAndTest as tt"
   ]
  },
  {
   "cell_type": "code",
   "execution_count": 2,
   "id": "41a68750",
   "metadata": {},
   "outputs": [],
   "source": [
    "kNearest = cv2.ml.KNearest_create()"
   ]
  },
  {
   "cell_type": "code",
   "execution_count": null,
   "id": "a5e31146",
   "metadata": {},
   "outputs": [],
   "source": [
    "# constants for checkIfPossibleChar, this checks one possible char only (does not compare to another char)\n",
    "MIN_PIXEL_WIDTH = 2\n",
    "MIN_PIXEL_HEIGHT = 8\n",
    "\n",
    "MIN_ASPECT_RATIO = 0.25\n",
    "MAX_ASPECT_RATIO = 1.0\n",
    "\n",
    "MIN_PIXEL_AREA = 80\n",
    "\n",
    "        # constants for comparing two chars\n",
    "MIN_DIAG_SIZE_MULTIPLE_AWAY = 0.3\n",
    "MAX_DIAG_SIZE_MULTIPLE_AWAY = 5.0\n",
    "\n",
    "MAX_CHANGE_IN_AREA = 0.5\n",
    "\n",
    "MAX_CHANGE_IN_WIDTH = 0.8\n",
    "MAX_CHANGE_IN_HEIGHT = 0.2\n",
    "\n",
    "MAX_ANGLE_BETWEEN_CHARS = 12.0\n",
    "\n",
    "        # other constants\n",
    "MIN_NUMBER_OF_MATCHING_CHARS = 3\n",
    "\n",
    "RESIZED_CHAR_IMAGE_WIDTH = 20\n",
    "RESIZED_CHAR_IMAGE_HEIGHT = 30\n",
    "\n",
    "MIN_CONTOUR_AREA = 100"
   ]
  },
  {
   "cell_type": "code",
   "execution_count": 3,
   "id": "a1cf9bcb",
   "metadata": {},
   "outputs": [
    {
     "name": "stdout",
     "output_type": "stream",
     "text": [
      "Note: you may need to restart the kernel to use updated packages.\n"
     ]
    },
    {
     "name": "stderr",
     "output_type": "stream",
     "text": [
      "ERROR: Could not find a version that satisfies the requirement python_ipynb (from versions: none)\n",
      "ERROR: No matching distribution found for python_ipynb\n",
      "WARNING: You are using pip version 21.3; however, version 21.3.1 is available.\n",
      "You should consider upgrading via the 'C:\\users\\jonat\\pythondjango\\fyp\\env\\scripts\\python.exe -m pip install --upgrade pip' command.\n"
     ]
    }
   ],
   "source": []
  }
 ],
 "metadata": {
  "kernelspec": {
   "display_name": "Python 3 (ipykernel)",
   "language": "python",
   "name": "python3"
  },
  "language_info": {
   "codemirror_mode": {
    "name": "ipython",
    "version": 3
   },
   "file_extension": ".py",
   "mimetype": "text/x-python",
   "name": "python",
   "nbconvert_exporter": "python",
   "pygments_lexer": "ipython3",
   "version": "3.9.6"
  }
 },
 "nbformat": 4,
 "nbformat_minor": 5
}
