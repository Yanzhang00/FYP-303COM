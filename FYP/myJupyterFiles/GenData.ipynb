{
 "cells": [
  {
   "cell_type": "code",
   "execution_count": 1,
   "id": "fd89d526",
   "metadata": {},
   "outputs": [],
   "source": [
    "import sys\n",
    "import numpy as np\n",
    "import cv2\n",
    "import os"
   ]
  },
  {
   "cell_type": "code",
   "execution_count": 2,
   "id": "1890f5cf",
   "metadata": {},
   "outputs": [],
   "source": [
    "# module level variables ##########################################################################\n",
    "MIN_CONTOUR_AREA = 100\n",
    "\n",
    "RESIZED_IMAGE_WIDTH = 20\n",
    "RESIZED_IMAGE_HEIGHT = 30"
   ]
  },
  {
   "cell_type": "code",
   "execution_count": 3,
   "id": "38cddec9",
   "metadata": {},
   "outputs": [],
   "source": [
    "imgTrainingNumbers = cv2.imread(\"font_train.png\")\n",
    "\n",
    "if imgTrainingNumbers is None:                          # if image was not read successfully\n",
    "    print(\"error: image not read from file \\n\\n\")        # print error message to std out\n",
    "    os.system(\"pause\")"
   ]
  },
  {
   "cell_type": "code",
   "execution_count": 4,
   "id": "9e0ca9a3",
   "metadata": {},
   "outputs": [],
   "source": [
    "imgGray = cv2.cvtColor(imgTrainingNumbers, cv2.COLOR_BGR2GRAY)          # get grayscale image\n",
    "imgBlurred = cv2.GaussianBlur(imgGray, (5,5), 0)\n",
    "# cv2.imshow(\"gray\", imgGray)\n",
    "# cv2.imshow(\"blurred\", imgBlurred)\n",
    "# cv2.waitKey(0)\n",
    "# cv2.destroyAllWindows()"
   ]
  },
  {
   "cell_type": "code",
   "execution_count": 5,
   "id": "2c4fca93",
   "metadata": {},
   "outputs": [],
   "source": [
    "imgThresh = cv2.adaptiveThreshold(imgBlurred, 255, cv2.ADAPTIVE_THRESH_GAUSSIAN_C, cv2.THRESH_BINARY_INV, 11, 2)"
   ]
  },
  {
   "cell_type": "code",
   "execution_count": 6,
   "id": "d0444809",
   "metadata": {},
   "outputs": [],
   "source": [
    "imgThreshCopy = imgThresh.copy()"
   ]
  },
  {
   "cell_type": "code",
   "execution_count": 7,
   "id": "71c7a04e",
   "metadata": {},
   "outputs": [],
   "source": [
    "npaContours, npaHierarchy = cv2.findContours(imgThreshCopy, cv2.RETR_EXTERNAL, cv2.CHAIN_APPROX_SIMPLE)"
   ]
  },
  {
   "cell_type": "code",
   "execution_count": 8,
   "id": "c4d0b116",
   "metadata": {},
   "outputs": [],
   "source": [
    "npaFlattenedImages = np.empty((0, RESIZED_IMAGE_WIDTH * RESIZED_IMAGE_HEIGHT))"
   ]
  },
  {
   "cell_type": "code",
   "execution_count": 9,
   "id": "e016efca",
   "metadata": {},
   "outputs": [],
   "source": [
    "intClassifications = []"
   ]
  },
  {
   "cell_type": "code",
   "execution_count": 10,
   "id": "d76755d7",
   "metadata": {},
   "outputs": [],
   "source": [
    "intValidChars = [ord('0'), ord('1'), ord('2'), ord('3'), ord('4'), ord('5'), ord('6'), ord('7'), ord('8'), ord('9'),\n",
    "                     ord('A'), ord('B'), ord('C'), ord('D'), ord('E'), ord('F'), ord('G'), ord('H'), ord('I'), ord('J'),\n",
    "                     ord('K'), ord('L'), ord('M'), ord('N'), ord('O'), ord('P'), ord('Q'), ord('R'), ord('S'), ord('T'),\n",
    "                     ord('U'), ord('V'), ord('W'), ord('X'), ord('Y'), ord('Z')]"
   ]
  },
  {
   "cell_type": "code",
   "execution_count": 11,
   "id": "2b6c4498",
   "metadata": {},
   "outputs": [
    {
     "name": "stdout",
     "output_type": "stream",
     "text": [
      "\n",
      "\n",
      "training complete !!\n",
      "\n"
     ]
    }
   ],
   "source": [
    "for npaContour in npaContours:                          # for each contour\n",
    "    if cv2.contourArea(npaContour) > MIN_CONTOUR_AREA:          #  if contour is big enough to consider\n",
    "        [intX, intY, intW, intH] = cv2.boundingRect(npaContour)         # get and break out bounding rect\n",
    "\n",
    "                                                # draw rectangle around each contour as we ask user for input\n",
    "        cv2.rectangle(imgTrainingNumbers,           # draw rectangle on original training image\n",
    "                          (intX, intY),                 # upper left corner\n",
    "                          (intX+intW,intY+intH),        # lower right corner\n",
    "                          (0, 0, 255),                  # red\n",
    "                          2)                            # thickness\n",
    "\n",
    "        imgROI = imgThresh[intY:intY+intH, intX:intX+intW]                                  # crop char out of threshold image\n",
    "        imgROIResized = cv2.resize(imgROI, (RESIZED_IMAGE_WIDTH, RESIZED_IMAGE_HEIGHT))     # resize image, this will be more consistent for recognition and storage\n",
    "\n",
    "        cv2.imshow(\"imgROI\", imgROI)                    # show cropped out char for reference\n",
    "        cv2.imshow(\"imgROIResized\", imgROIResized)      # show resized image for reference\n",
    "        cv2.imshow(\"training_numbers.png\", imgTrainingNumbers)      # show training numbers image, this will now have red rectangles drawn on it\n",
    "\n",
    "        intChar = cv2.waitKey(0)                     # get key press\n",
    "\n",
    "        if intChar == 27:                   # if esc key was pressed\n",
    "            sys.exit()                      # exit program\n",
    "        elif intChar in intValidChars:      # else if the char is in the list of chars we are looking for . . .\n",
    "\n",
    "            intClassifications.append(intChar)                                                # append classification char to integer list of chars (we will convert to float later before writing to file)\n",
    "\n",
    "            npaFlattenedImage = imgROIResized.reshape((1, RESIZED_IMAGE_WIDTH * RESIZED_IMAGE_HEIGHT))  # flatten image to 1d numpy array so we can write to file later\n",
    "            npaFlattenedImages = np.append(npaFlattenedImages, npaFlattenedImage, 0)\n",
    "            \n",
    "fltClassifications = np.array(intClassifications, np.float32)                   # convert classifications list of ints to numpy array of floats\n",
    "\n",
    "npaClassifications = fltClassifications.reshape((fltClassifications.size, 1))   # flatten numpy array of floats to 1d so we can write to file later\n",
    "\n",
    "print(\"\\n\\ntraining complete !!\\n\")\n",
    "\n",
    "np.savetxt(\"classifications1.txt\", npaClassifications)           # write flattened images to file\n",
    "np.savetxt(\"flattened_images1.txt\", npaFlattenedImages)          #\n",
    "\n",
    "cv2.destroyAllWindows()             # remove windows from memory"
   ]
  },
  {
   "cell_type": "code",
   "execution_count": null,
   "id": "26321816",
   "metadata": {},
   "outputs": [],
   "source": []
  }
 ],
 "metadata": {
  "kernelspec": {
   "display_name": "LPR",
   "language": "python",
   "name": "env"
  },
  "language_info": {
   "codemirror_mode": {
    "name": "ipython",
    "version": 3
   },
   "file_extension": ".py",
   "mimetype": "text/x-python",
   "name": "python",
   "nbconvert_exporter": "python",
   "pygments_lexer": "ipython3",
   "version": "3.9.6"
  }
 },
 "nbformat": 4,
 "nbformat_minor": 5
}
