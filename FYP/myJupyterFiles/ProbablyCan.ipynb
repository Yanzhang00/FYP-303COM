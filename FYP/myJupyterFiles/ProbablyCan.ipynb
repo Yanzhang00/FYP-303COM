{
 "cells": [
  {
   "cell_type": "code",
   "execution_count": 1,
   "id": "e239c16a",
   "metadata": {},
   "outputs": [],
   "source": [
    "import cv2\n",
    "import numpy as np\n",
    "import functools\n",
    "import operator\n",
    "import os\n",
    "\n",
    "TARGET_WIDTH = 128\n",
    "TARGET_HEIGHT = 128\n",
    "# module level variables ##########################################################################\n",
    "MIN_CONTOUR_AREA = 100\n",
    "\n",
    "RESIZED_IMAGE_WIDTH = 20\n",
    "RESIZED_IMAGE_HEIGHT = 30"
   ]
  },
  {
   "cell_type": "code",
   "execution_count": 2,
   "id": "02c9aa7b",
   "metadata": {},
   "outputs": [],
   "source": [
    "class ContourWithData():\n",
    "\n",
    "    # member variables ############################################################################\n",
    "    npaContour = None           # contour\n",
    "    boundingRect = None         # bounding rect for contour\n",
    "    intRectX = 0                # bounding rect top left corner x location\n",
    "    intRectY = 0                # bounding rect top left corner y location\n",
    "    intRectWidth = 0            # bounding rect width\n",
    "    intRectHeight = 0           # bounding rect height\n",
    "    fltArea = 0.0               # area of contour\n",
    "\n",
    "    def calculateRectTopLeftPointAndWidthAndHeight(self):               # calculate bounding rect info\n",
    "        [intX, intY, intWidth, intHeight] = self.boundingRect\n",
    "        self.intRectX = intX\n",
    "        self.intRectY = intY\n",
    "        self.intRectWidth = intWidth\n",
    "        self.intRectHeight = intHeight\n",
    "\n",
    "    def checkIfContourIsValid(self):                            # this is oversimplified, for a production grade program\n",
    "        if self.fltArea < MIN_CONTOUR_AREA: return False        # much better validity checking would be necessary\n",
    "        return True"
   ]
  },
  {
   "cell_type": "code",
   "execution_count": 3,
   "id": "4c52233f",
   "metadata": {},
   "outputs": [],
   "source": [
    "allContoursWithData = []                # declare empty lists,\n",
    "validContoursWithData = []              # we will fill these shortly\n",
    "\n",
    "try:\n",
    "    npaClassifications = np.loadtxt(\"classifications1.txt\", np.float32)                  # read in training classifications\n",
    "except:\n",
    "    print(\"error, unable to open classifications.txt, exiting program\\n\")\n",
    "    os.system(\"pause\")\n",
    "# end try\n",
    "\n",
    "try:\n",
    "    npaFlattenedImages = np.loadtxt(\"flattened_images1.txt\", np.float32)                 # read in training images\n",
    "except:\n",
    "    print(\"error, unable to open flattened_images.txt, exiting program\\n\")\n",
    "    os.system(\"pause\")\n",
    "    # end try"
   ]
  },
  {
   "cell_type": "code",
   "execution_count": 4,
   "id": "2d472415",
   "metadata": {},
   "outputs": [],
   "source": [
    "# reshape numpy array to 1d, necessary to pass to call to train\n",
    "npaClassifications = npaClassifications.reshape((npaClassifications.size, 1))"
   ]
  },
  {
   "cell_type": "code",
   "execution_count": 5,
   "id": "1dfbef8f",
   "metadata": {},
   "outputs": [],
   "source": [
    "kNearest = cv2.ml.KNearest_create()"
   ]
  },
  {
   "cell_type": "code",
   "execution_count": 6,
   "id": "70c4c2a1",
   "metadata": {},
   "outputs": [
    {
     "data": {
      "text/plain": [
       "True"
      ]
     },
     "execution_count": 6,
     "metadata": {},
     "output_type": "execute_result"
    }
   ],
   "source": [
    "kNearest.train(npaFlattenedImages, cv2.ml.ROW_SAMPLE, npaClassifications)"
   ]
  },
  {
   "cell_type": "code",
   "execution_count": 7,
   "id": "272db889",
   "metadata": {},
   "outputs": [],
   "source": [
    "img = cv2.imread('a\\plateFront1.png')\n",
    "gray = cv2.cvtColor(img, cv2.COLOR_BGR2GRAY)"
   ]
  },
  {
   "cell_type": "code",
   "execution_count": 8,
   "id": "ffce6a2c",
   "metadata": {},
   "outputs": [],
   "source": [
    "blurred = cv2.GaussianBlur(gray, (5, 5), 0)\n",
    "thresh = cv2.adaptiveThreshold(blurred, 255, cv2.ADAPTIVE_THRESH_MEAN_C, cv2.THRESH_BINARY, 21, 4)\n",
    "cv2.imshow(\"thresh\", thresh)\n",
    "cv2.waitKey(0)\n",
    "cv2.destroyAllWindows()\n",
    "#ret, thresh = cv2.threshold(blurred, 100, 255, cv2.THRESH_BINARY)"
   ]
  },
  {
   "cell_type": "code",
   "execution_count": 9,
   "id": "fa73438b",
   "metadata": {},
   "outputs": [],
   "source": [
    "_, labels = cv2.connectedComponents(thresh)\n",
    "mask = np.zeros(thresh.shape, dtype=\"uint8\")\n",
    "\n",
    "# cv2.imshow(\"thresh\", labels)\n",
    "# cv2.waitKey(0)\n",
    "# cv2.destroyAllWindows()"
   ]
  },
  {
   "cell_type": "code",
   "execution_count": 10,
   "id": "58e1c775",
   "metadata": {},
   "outputs": [],
   "source": [
    "total_pixels = img.shape[0] * img.shape[1]\n",
    "# lower = total_pixels // 50 # heuristic param, can be fine tuned if necessary\n",
    "# upper = total_pixels // 5 # heuristic param, can be fine tuned if necessary\n",
    "\n",
    "lower = total_pixels // 100 # heuristic param, can be fine tuned if necessary\n",
    "upper = total_pixels // 5 # heuristic param, can be fine tuned if necessary"
   ]
  },
  {
   "cell_type": "code",
   "execution_count": 11,
   "id": "f0960dd6",
   "metadata": {},
   "outputs": [],
   "source": [
    "# Loop over the unique components\n",
    "for (i, label) in enumerate(np.unique(labels)):\n",
    "    # If this is the background label, ignore it\n",
    "    if label == 0:\n",
    "        continue\n",
    " \n",
    "    # Otherwise, construct the label mask to display only connected component\n",
    "    # for the current label\n",
    "    labelMask = np.zeros(thresh.shape, dtype=\"uint8\")\n",
    "    labelMask[labels == label] = 255\n",
    "    numPixels = cv2.countNonZero(labelMask)\n",
    " \n",
    "    # If the number of pixels in the component is between lower bound and upper bound, \n",
    "    # add it to our mask\n",
    "    if numPixels > lower and numPixels < upper:\n",
    "        mask = cv2.add(mask, labelMask)\n",
    "cv2.imshow(\"thresh\", mask)\n",
    "cv2.waitKey(0)\n",
    "cv2.destroyAllWindows()        "
   ]
  },
  {
   "cell_type": "code",
   "execution_count": 12,
   "id": "8eeb5d44",
   "metadata": {},
   "outputs": [],
   "source": [
    "maskCopy = mask.copy()"
   ]
  },
  {
   "cell_type": "code",
   "execution_count": 13,
   "id": "e61c59d5",
   "metadata": {},
   "outputs": [],
   "source": [
    "npaContours, npaHierarchy = cv2.findContours(maskCopy, cv2.RETR_EXTERNAL, cv2.CHAIN_APPROX_SIMPLE)"
   ]
  },
  {
   "cell_type": "code",
   "execution_count": 14,
   "id": "c2129871",
   "metadata": {},
   "outputs": [],
   "source": [
    "for npaContour in npaContours:                             # for each contour\n",
    "    contourWithData = ContourWithData()                                             # instantiate a contour with data object\n",
    "    contourWithData.npaContour = npaContour                                         # assign contour to contour with data\n",
    "    contourWithData.boundingRect = cv2.boundingRect(contourWithData.npaContour)     # get the bounding rect\n",
    "    contourWithData.calculateRectTopLeftPointAndWidthAndHeight()                    # get bounding rect info\n",
    "    contourWithData.fltArea = cv2.contourArea(contourWithData.npaContour)           # calculate the contour area\n",
    "    allContoursWithData.append(contourWithData)          "
   ]
  },
  {
   "cell_type": "code",
   "execution_count": 15,
   "id": "8d534d4c",
   "metadata": {},
   "outputs": [],
   "source": [
    "for contourWithData in allContoursWithData:                 # for all contours\n",
    "    if contourWithData.checkIfContourIsValid():             # check if valid\n",
    "        validContoursWithData.append(contourWithData) "
   ]
  },
  {
   "cell_type": "code",
   "execution_count": 16,
   "id": "0546ff91",
   "metadata": {},
   "outputs": [],
   "source": [
    "# sort contours from left to right\n",
    "validContoursWithData.sort(key = operator.attrgetter(\"intRectX\"))"
   ]
  },
  {
   "cell_type": "code",
   "execution_count": 17,
   "id": "f6f909ed",
   "metadata": {},
   "outputs": [],
   "source": [
    "# final number sequence by the end of the program\n",
    "strFinalString = \"\""
   ]
  },
  {
   "cell_type": "code",
   "execution_count": 18,
   "id": "74dd020c",
   "metadata": {},
   "outputs": [],
   "source": [
    " for contourWithData in validContoursWithData:            # for each contour\n",
    "                                                # draw a green rect around the current char\n",
    "    cv2.rectangle(img,                                        # draw rectangle on original testing image\n",
    "                      (contourWithData.intRectX, contourWithData.intRectY),     # upper left corner\n",
    "                      (contourWithData.intRectX + contourWithData.intRectWidth, contourWithData.intRectY + contourWithData.intRectHeight),      # lower right corner\n",
    "                      (0, 255, 0),              # green\n",
    "                      2)                        # thickness\n",
    "\n",
    "    imgROI = maskCopy[contourWithData.intRectY : contourWithData.intRectY + contourWithData.intRectHeight,     # crop char out of threshold image\n",
    "                           contourWithData.intRectX : contourWithData.intRectX + contourWithData.intRectWidth]\n",
    "\n",
    "    imgROIResized = cv2.resize(imgROI, (RESIZED_IMAGE_WIDTH, RESIZED_IMAGE_HEIGHT))             # resize image, this will be more consistent for recognition and storage\n",
    "\n",
    "    npaROIResized = imgROIResized.reshape((1, RESIZED_IMAGE_WIDTH * RESIZED_IMAGE_HEIGHT))      # flatten image into 1d numpy array\n",
    "\n",
    "    npaROIResized = np.float32(npaROIResized)       # convert from 1d numpy array of ints to 1d numpy array of floats\n",
    "\n",
    "    retval, npaResults, neigh_resp, dists = kNearest.findNearest(npaROIResized, k = 1)     # call KNN function find_nearest\n",
    "\n",
    "    strCurrentChar = str(chr(int(npaResults[0][0])))                                             # get character from results\n",
    "\n",
    "    strFinalString = strFinalString + strCurrentChar            # append current char to full string"
   ]
  },
  {
   "cell_type": "code",
   "execution_count": 19,
   "id": "0a3a548a",
   "metadata": {},
   "outputs": [
    {
     "name": "stdout",
     "output_type": "stream",
     "text": [
      "\n",
      "PIPN4J7579I\n",
      "\n"
     ]
    }
   ],
   "source": [
    "print(\"\\n\" + strFinalString + \"\\n\")                  # show the full string\n",
    "\n",
    "cv2.imshow(\"imgTestingNumbers\", img)      # show input image with green boxes drawn around found digits\n",
    "cv2.waitKey(0)                                          # wait for user key press\n",
    "\n",
    "cv2.destroyAllWindows()             # remove windows from memory"
   ]
  }
 ],
 "metadata": {
  "kernelspec": {
   "display_name": "LPR",
   "language": "python",
   "name": "env"
  },
  "language_info": {
   "codemirror_mode": {
    "name": "ipython",
    "version": 3
   },
   "file_extension": ".py",
   "mimetype": "text/x-python",
   "name": "python",
   "nbconvert_exporter": "python",
   "pygments_lexer": "ipython3",
   "version": "3.9.6"
  }
 },
 "nbformat": 4,
 "nbformat_minor": 5
}
